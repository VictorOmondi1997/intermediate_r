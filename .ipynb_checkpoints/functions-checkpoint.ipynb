{
 "cells": [
  {
   "cell_type": "markdown",
   "metadata": {},
   "source": [
    "# Functions\n",
    "\n",
    "# 1. Introduction to functions\n",
    "\n",
    "## 1.1. Function documentation"
   ]
  },
  {
   "cell_type": "code",
   "execution_count": 5,
   "metadata": {},
   "outputs": [],
   "source": [
    "help(mean)"
   ]
  },
  {
   "cell_type": "code",
   "execution_count": 2,
   "metadata": {},
   "outputs": [
    {
     "data": {
      "text/html": [
       "<pre class=language-r><code>function (x, ...) \n",
       "NULL</code></pre>"
      ],
      "text/latex": [
       "\\begin{minted}{r}\n",
       "function (x, ...) \n",
       "NULL\n",
       "\\end{minted}"
      ],
      "text/markdown": [
       "```r\n",
       "function (x, ...) \n",
       "NULL\n",
       "```"
      ],
      "text/plain": [
       "function (x, ...) \n",
       "NULL"
      ]
     },
     "metadata": {},
     "output_type": "display_data"
    }
   ],
   "source": [
    "args(mean)"
   ]
  },
  {
   "cell_type": "markdown",
   "metadata": {},
   "source": [
    "## 1.2. Use a function\n"
   ]
  },
  {
   "cell_type": "code",
   "execution_count": 3,
   "metadata": {},
   "outputs": [
    {
     "data": {
      "text/html": [
       "10.8571428571429"
      ],
      "text/latex": [
       "10.8571428571429"
      ],
      "text/markdown": [
       "10.8571428571429"
      ],
      "text/plain": [
       "[1] 10.85714"
      ]
     },
     "metadata": {},
     "output_type": "display_data"
    },
    {
     "data": {
      "text/html": [
       "11.4285714285714"
      ],
      "text/latex": [
       "11.4285714285714"
      ],
      "text/markdown": [
       "11.4285714285714"
      ],
      "text/plain": [
       "[1] 11.42857"
      ]
     },
     "metadata": {},
     "output_type": "display_data"
    }
   ],
   "source": [
    "# The linkedin and facebook vectors have already been created for you\n",
    "linkedin <- c(16, 9, 13, 5, 2, 17, 14)\n",
    "facebook <- c(17, 7, 5, 16, 8, 13, 14)\n",
    "\n",
    "# Calculate average number of views\n",
    "avg_li = mean(linkedin)\n",
    "avg_fb = mean(facebook)\n",
    "\n",
    "# Inspect avg_li and avg_fb\n",
    "avg_li\n",
    "avg_fb"
   ]
  },
  {
   "cell_type": "markdown",
   "metadata": {},
   "source": [
    "## 1.3. Use a fuction (2)"
   ]
  },
  {
   "cell_type": "code",
   "execution_count": 4,
   "metadata": {},
   "outputs": [
    {
     "data": {
      "text/html": [
       "22.2857142857143"
      ],
      "text/latex": [
       "22.2857142857143"
      ],
      "text/markdown": [
       "22.2857142857143"
      ],
      "text/plain": [
       "[1] 22.28571"
      ]
     },
     "metadata": {},
     "output_type": "display_data"
    },
    {
     "data": {
      "text/html": [
       "22.6"
      ],
      "text/latex": [
       "22.6"
      ],
      "text/markdown": [
       "22.6"
      ],
      "text/plain": [
       "[1] 22.6"
      ]
     },
     "metadata": {},
     "output_type": "display_data"
    }
   ],
   "source": [
    "\n",
    "# The linkedin and facebook vectors have already been created for you\n",
    "linkedin <- c(16, 9, 13, 5, 2, 17, 14)\n",
    "facebook <- c(17, 7, 5, 16, 8, 13, 14)\n",
    "\n",
    "# Calculate the mean of the sum\n",
    "avg_sum = mean(linkedin+facebook)\n",
    "\n",
    "# Calculate the trimmed mean of the sum\n",
    "avg_sum_trimmed= mean(linkedin+facebook, trim=0.2)\n",
    "\n",
    "# Inspect both new variables\n",
    "avg_sum\n",
    "avg_sum_trimmed"
   ]
  },
  {
   "cell_type": "markdown",
   "metadata": {},
   "source": [
    "## 1.4. Use a function (3)"
   ]
  },
  {
   "cell_type": "code",
   "execution_count": 6,
   "metadata": {},
   "outputs": [
    {
     "name": "stdout",
     "output_type": "stream",
     "text": [
      "[1] NA\n",
      "[1] 12.33333\n"
     ]
    }
   ],
   "source": [
    "# The linkedin and facebook vectors have already been created for you\n",
    "linkedin <- c(16, 9, 13, 5, NA, 17, 14)\n",
    "facebook <- c(17, NA, 5, 16, 8, 13, 14)\n",
    "\n",
    "# Basic average of linkedin\n",
    "print(mean(linkedin))\n",
    "\n",
    "# Advanced average of linkedin\n",
    "print(mean(linkedin, na.rm=TRUE))"
   ]
  },
  {
   "cell_type": "markdown",
   "metadata": {},
   "source": [
    "## 1.5. Fuctions inside functions"
   ]
  },
  {
   "cell_type": "code",
   "execution_count": 7,
   "metadata": {},
   "outputs": [
    {
     "data": {
      "text/html": [
       "4.8"
      ],
      "text/latex": [
       "4.8"
      ],
      "text/markdown": [
       "4.8"
      ],
      "text/plain": [
       "[1] 4.8"
      ]
     },
     "metadata": {},
     "output_type": "display_data"
    }
   ],
   "source": [
    "# The linkedin and facebook vectors have already been created for you\n",
    "linkedin <- c(16, 9, 13, 5, NA, 17, 14)\n",
    "facebook <- c(17, NA, 5, 16, 8, 13, 14)\n",
    "\n",
    "# Calculate the mean absolute deviation\n",
    "mean(abs(linkedin-facebook), na.rm=TRUE)"
   ]
  },
  {
   "cell_type": "markdown",
   "metadata": {},
   "source": [
    "# 2. Writing Function\n",
    "\n",
    "## 2.1. Write your own function"
   ]
  },
  {
   "cell_type": "code",
   "execution_count": 8,
   "metadata": {},
   "outputs": [
    {
     "data": {
      "text/html": [
       "144"
      ],
      "text/latex": [
       "144"
      ],
      "text/markdown": [
       "144"
      ],
      "text/plain": [
       "[1] 144"
      ]
     },
     "metadata": {},
     "output_type": "display_data"
    },
    {
     "data": {
      "text/html": [
       "5"
      ],
      "text/latex": [
       "5"
      ],
      "text/markdown": [
       "5"
      ],
      "text/plain": [
       "[1] 5"
      ]
     },
     "metadata": {},
     "output_type": "display_data"
    }
   ],
   "source": [
    "# Create a function pow_two()\n",
    "\n",
    "pow_two = function(number){\n",
    "  return(number^2)\n",
    "}\n",
    "\n",
    "# Use the function\n",
    "pow_two(12)\n",
    "\n",
    "# Create a function sum_abs()\n",
    "\n",
    "sum_abs = function(num1, num2){\n",
    "  return(abs(num1) + abs(num2))\n",
    "}\n",
    "\n",
    "# Use the function\n",
    "sum_abs(-2,3)"
   ]
  },
  {
   "cell_type": "markdown",
   "metadata": {},
   "source": [
    "## 2.2. Write your own function (2)"
   ]
  },
  {
   "cell_type": "code",
   "execution_count": 9,
   "metadata": {},
   "outputs": [
    {
     "name": "stdout",
     "output_type": "stream",
     "text": [
      "[1] \"Hi there!\"\n"
     ]
    },
    {
     "data": {
      "text/html": [
       "TRUE"
      ],
      "text/latex": [
       "TRUE"
      ],
      "text/markdown": [
       "TRUE"
      ],
      "text/plain": [
       "[1] TRUE"
      ]
     },
     "metadata": {},
     "output_type": "display_data"
    }
   ],
   "source": [
    "\n",
    "# Define the function hello()\n",
    "hello = function(){\n",
    "  print('Hi there!')\n",
    "  return(TRUE)\n",
    "}\n",
    "\n",
    "\n",
    "\n",
    "\n",
    "# Call the function hello()\n",
    "hello()"
   ]
  },
  {
   "cell_type": "markdown",
   "metadata": {},
   "source": [
    "## 2.3. Write your own function (3)"
   ]
  },
  {
   "cell_type": "code",
   "execution_count": 10,
   "metadata": {},
   "outputs": [
    {
     "name": "stdout",
     "output_type": "stream",
     "text": [
      "[1] \"3 to the power two equals 9\"\n"
     ]
    },
    {
     "data": {
      "text/html": [
       "9"
      ],
      "text/latex": [
       "9"
      ],
      "text/markdown": [
       "9"
      ],
      "text/plain": [
       "[1] 9"
      ]
     },
     "metadata": {},
     "output_type": "display_data"
    },
    {
     "data": {
      "text/html": [
       "9"
      ],
      "text/latex": [
       "9"
      ],
      "text/markdown": [
       "9"
      ],
      "text/plain": [
       "[1] 9"
      ]
     },
     "metadata": {},
     "output_type": "display_data"
    }
   ],
   "source": [
    "# Finish the pow_two() function\n",
    "pow_two <- function(x, print_info=TRUE) {\n",
    "  y <- x ^ 2\n",
    "  if(print_info==TRUE){\n",
    "    print(paste(x, \"to the power two equals\", y))\n",
    "  }\n",
    "  \n",
    "  return(y)\n",
    "}\n",
    "pow_two(3,TRUE)\n",
    "pow_two(3,FALSE)"
   ]
  },
  {
   "cell_type": "markdown",
   "metadata": {},
   "source": [
    "## 2.4. Function Scoping"
   ]
  },
  {
   "cell_type": "markdown",
   "metadata": {},
   "source": [
    "## 2.5. R you functional?\n",
    "\n",
    "```c\n",
    "# The linkedin and facebook vectors have already been created for you\n",
    "\n",
    "# Define the interpret function\n",
    "interpret <- function(num_views) {\n",
    "  if (num_views > 15) {\n",
    "    print(\"You're popular!\")\n",
    "    return(num_views)\n",
    "  } else {\n",
    "    print(\"Try to be more visible!\")\n",
    "    return(0)\n",
    "  }\n",
    "}\n",
    "\n",
    "# Call the interpret function twice\n",
    "interpret(linkedin[1])\n",
    "interpret(facebook[2])\n",
    "```"
   ]
  },
  {
   "cell_type": "code",
   "execution_count": 12,
   "metadata": {},
   "outputs": [
    {
     "name": "stdout",
     "output_type": "stream",
     "text": [
      "[1] \"You're popular!\"\n",
      "[1] \"Try to be more visible!\"\n",
      "[1] \"Try to be more visible!\"\n",
      "[1] \"Try to be more visible!\"\n",
      "[1] \"Try to be more visible!\"\n",
      "[1] \"You're popular!\"\n",
      "[1] \"Try to be more visible!\"\n"
     ]
    },
    {
     "data": {
      "text/html": [
       "33"
      ],
      "text/latex": [
       "33"
      ],
      "text/markdown": [
       "33"
      ],
      "text/plain": [
       "[1] 33"
      ]
     },
     "metadata": {},
     "output_type": "display_data"
    },
    {
     "name": "stdout",
     "output_type": "stream",
     "text": [
      "[1] \"You're popular!\"\n",
      "[1] \"Try to be more visible!\"\n",
      "[1] \"Try to be more visible!\"\n",
      "[1] \"You're popular!\"\n",
      "[1] \"Try to be more visible!\"\n",
      "[1] \"Try to be more visible!\"\n",
      "[1] \"Try to be more visible!\"\n"
     ]
    },
    {
     "data": {
      "text/html": [
       "33"
      ],
      "text/latex": [
       "33"
      ],
      "text/markdown": [
       "33"
      ],
      "text/plain": [
       "[1] 33"
      ]
     },
     "metadata": {},
     "output_type": "display_data"
    }
   ],
   "source": [
    "# The linkedin and facebook vectors have already been created for you\n",
    "linkedin <- c(16, 9, 13, 5, 2, 17, 14)\n",
    "facebook <- c(17, 7, 5, 16, 8, 13, 14)\n",
    "\n",
    "# The interpret() can be used inside interpret_all()\n",
    "interpret <- function(num_views) {\n",
    "  if (num_views > 15) {\n",
    "    print(\"You're popular!\")\n",
    "    return(num_views)\n",
    "  } else {\n",
    "    print(\"Try to be more visible!\")\n",
    "    return(0)\n",
    "  }\n",
    "}\n",
    "\n",
    "# Define the interpret_all() function\n",
    "# views: vector with data to interpret\n",
    "# return_sum: return total number of views on popular days?\n",
    "interpret_all <- function(views, return_sum=TRUE) {\n",
    "  count <- 0\n",
    "\n",
    "  for (v in views) {\n",
    "    count=count+interpret(v)\n",
    "  }\n",
    "\n",
    "  if (return_sum) {\n",
    "    return(count)\n",
    "  } else {\n",
    "    return(NULL)\n",
    "  }\n",
    "}\n",
    "\n",
    "# Call the interpret_all() function on both linkedin and facebook\n",
    "interpret_all(linkedin)\n",
    "interpret_all(facebook)"
   ]
  },
  {
   "cell_type": "markdown",
   "metadata": {},
   "source": [
    "# 3. R packages\n",
    "\n",
    "## 3.1. Load an R Package\n",
    "\n",
    "```\n",
    "# Load the ggplot2 package\n",
    "library(ggplot2)\n",
    "\n",
    "# Retry the qplot() function\n",
    "qplot(mtcars$wt, mtcars$hp)\n",
    "\n",
    "# Check out the currently attached packages again\n",
    "search()\n",
    "```"
   ]
  },
  {
   "cell_type": "code",
   "execution_count": null,
   "metadata": {},
   "outputs": [],
   "source": []
  }
 ],
 "metadata": {
  "kernelspec": {
   "display_name": "R",
   "language": "R",
   "name": "ir"
  },
  "language_info": {
   "codemirror_mode": "r",
   "file_extension": ".r",
   "mimetype": "text/x-r-source",
   "name": "R",
   "pygments_lexer": "r",
   "version": "3.6.1"
  }
 },
 "nbformat": 4,
 "nbformat_minor": 2
}
